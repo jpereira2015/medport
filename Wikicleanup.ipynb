{
  "cells": [
    {
      "cell_type": "markdown",
      "metadata": {
        "id": "view-in-github",
        "colab_type": "text"
      },
      "source": [
        "<a href=\"https://colab.research.google.com/github/jpereira2015/medport/blob/main/Wikicleanup.ipynb\" target=\"_parent\"><img src=\"https://colab.research.google.com/assets/colab-badge.svg\" alt=\"Open In Colab\"/></a>"
      ]
    },
    {
      "cell_type": "code",
      "execution_count": null,
      "metadata": {
        "id": "CnATtRM7rTzg"
      },
      "outputs": [],
      "source": [
        "import bz2\n",
        "\n",
        "def decompress_bz2_chunked(input_path, output_path, chunk_size=1024*1024):  # Default chunk size is 1 MB\n",
        "    # Open the .bz2 file\n",
        "    with bz2.open(input_path, 'rb') as file:\n",
        "        # Open the output file\n",
        "        with open(output_path, 'wb') as output_file:\n",
        "            # Read and write in chunks\n",
        "            while True:\n",
        "                chunk = file.read(chunk_size)\n",
        "                if not chunk:\n",
        "                    break\n",
        "                output_file.write(chunk)\n",
        "\n",
        "# Specify the path to your .bz2 file and the output file name\n",
        "input_path = '/content/drive/MyDrive/Colab_files/ptwiki-20240401-pages-articles-multistream.xml.bz2'\n",
        "output_path = '/content/drive/MyDrive/Colab_files/output_file.xml'\n",
        "\n",
        "# Call the function to decompress the file\n",
        "decompress_bz2_chunked(input_path, output_path)\n"
      ]
    },
    {
      "cell_type": "code",
      "execution_count": null,
      "metadata": {
        "colab": {
          "base_uri": "https://localhost:8080/"
        },
        "id": "9F27lY0u8YKm",
        "outputId": "dc46a283-6872-4eba-cbb9-5cba504a6bc0"
      },
      "outputs": [
        {
          "name": "stderr",
          "output_type": "stream",
          "text": [
            "[nltk_data] Downloading package punkt to /root/nltk_data...\n",
            "[nltk_data]   Unzipping tokenizers/punkt.zip.\n"
          ]
        }
      ],
      "source": [
        "import re\n",
        "import nltk\n",
        "from lxml import etree\n",
        "from nltk.tokenize import PunktSentenceTokenizer\n",
        "\n",
        "# Load the Portuguese tokenizer from NLTK\n",
        "nltk.download('punkt')\n",
        "tokenizer = nltk.data.load('tokenizers/punkt/portuguese.pickle')\n",
        "\n",
        "def clean_text(text):\n",
        "    # Email replacement\n",
        "    text = re.sub(r'\\b[\\w.-]+@[\\w.-]+\\.\\w+\\b', 'EMAIL', text)\n",
        "    # Number replacement\n",
        "    text = re.sub(r'\\b\\d+\\b', '0', text)\n",
        "    # URL replacement\n",
        "    text = re.sub(r'https?://\\S+|www\\.\\S+', 'URL', text)\n",
        "    # Standardize different quotes to simple quotes\n",
        "    text = re.sub(r'[“”„]', '\"', text)\n",
        "    text = re.sub(r\"[‘’`]\", \"'\", text)\n",
        "    # Standardize hyphens\n",
        "    text = re.sub(r'[-–—]', '-', text)\n",
        "    # Remove HTML tags\n",
        "    text = re.sub(r'<[^>]+>', '', text)\n",
        "    # Remove text within brackets\n",
        "    text = re.sub(r'\\[.*?\\]|{.*?}|\\(.*?\\)', '', text)\n",
        "    return text\n",
        "\n",
        "def process_xml(file_path, output_path):\n",
        "    context = etree.iterparse(file_path, events=('end',), tag='{http://www.mediawiki.org/xml/export-0.10/}text')\n",
        "    with open(output_path, 'w', encoding='utf-8') as f:\n",
        "        for event, elem in context:\n",
        "            if elem.text:\n",
        "                cleaned_text = clean_text(elem.text)\n",
        "                sentences = tokenizer.tokenize(cleaned_text)\n",
        "                for sentence in sentences:\n",
        "                    # Ensure each sentence has at least 4 words\n",
        "                    if len(sentence.split()) >= 4:\n",
        "                        f.write(sentence + '\\n')\n",
        "            # Clear the element to free up memory\n",
        "            elem.clear()\n",
        "            while elem.getprevious() is not None:\n",
        "                del elem.getparent()[0]\n",
        "\n",
        "# Specify your file paths here\n",
        "input_xml_path = '/content/drive/MyDrive/Colab_files/output_file.xml'\n",
        "output_txt_path = '/content/drive/MyDrive/Colab_files/output_file.txt'\n",
        "\n",
        "# Process the XML and extract data\n",
        "process_xml(input_xml_path, output_txt_path)\n",
        "\n"
      ]
    },
    {
      "cell_type": "code",
      "source": [
        "!pip install mwparserfromhell\n"
      ],
      "metadata": {
        "colab": {
          "base_uri": "https://localhost:8080/"
        },
        "id": "cwLKKtQuBDH9",
        "outputId": "5b5f006c-4a61-4710-8624-eb3a4e2a0c80"
      },
      "execution_count": 3,
      "outputs": [
        {
          "output_type": "stream",
          "name": "stdout",
          "text": [
            "Collecting mwparserfromhell\n",
            "  Downloading mwparserfromhell-0.6.6-cp310-cp310-manylinux_2_17_x86_64.manylinux2014_x86_64.whl (191 kB)\n",
            "\u001b[2K     \u001b[90m━━━━━━━━━━━━━━━━━━━━━━━━━━━━━━━━━━━━━━━━\u001b[0m \u001b[32m191.0/191.0 kB\u001b[0m \u001b[31m4.1 MB/s\u001b[0m eta \u001b[36m0:00:00\u001b[0m\n",
            "\u001b[?25hInstalling collected packages: mwparserfromhell\n",
            "Successfully installed mwparserfromhell-0.6.6\n"
          ]
        }
      ]
    },
    {
      "cell_type": "code",
      "source": [
        "pip install mwparserfromhell"
      ],
      "metadata": {
        "colab": {
          "base_uri": "https://localhost:8080/"
        },
        "id": "NBJGcbKp5jhD",
        "outputId": "0e7c91e6-8095-489d-91ca-7bd345d48490"
      },
      "execution_count": 2,
      "outputs": [
        {
          "output_type": "stream",
          "name": "stdout",
          "text": [
            "Collecting mwparserfromhell\n",
            "  Downloading mwparserfromhell-0.6.6-cp310-cp310-manylinux_2_17_x86_64.manylinux2014_x86_64.whl (191 kB)\n",
            "\u001b[2K     \u001b[90m━━━━━━━━━━━━━━━━━━━━━━━━━━━━━━━━━━━━━━━━\u001b[0m \u001b[32m191.0/191.0 kB\u001b[0m \u001b[31m2.0 MB/s\u001b[0m eta \u001b[36m0:00:00\u001b[0m\n",
            "\u001b[?25hInstalling collected packages: mwparserfromhell\n",
            "Successfully installed mwparserfromhell-0.6.6\n"
          ]
        }
      ]
    },
    {
      "cell_type": "code",
      "execution_count": 3,
      "metadata": {
        "colab": {
          "base_uri": "https://localhost:8080/"
        },
        "id": "TKDOJF_jpGZM",
        "outputId": "3fb5eb83-e9e1-4671-a827-dc70defea9cc"
      },
      "outputs": [
        {
          "output_type": "stream",
          "name": "stdout",
          "text": [
            "Processed 2612651 pages in total.\n"
          ]
        }
      ],
      "source": [
        "import mwparserfromhell\n",
        "import xml.etree.ElementTree as ET\n",
        "import re\n",
        "\n",
        "def clean_wikicode(text):\n",
        "    wikicode = mwparserfromhell.parse(text)\n",
        "    clean_text = wikicode.strip_code().strip()\n",
        "    # Regex to clean up additional unwanted markup and text\n",
        "    clean_text = re.sub(r'\\[\\[(File|Image|Archivo|Ficheiro):[^\\]]+\\]\\]', '', clean_text, flags=re.IGNORECASE)\n",
        "    clean_text = re.sub(r'(\\d{1,4}px|miniaturadaimagem|thumb|thumbnail|direita|esquerda|centro)[\\|_]', '', clean_text, flags=re.IGNORECASE)\n",
        "    clean_text = re.sub(r'\\[http[^\\]]+\\]', '', clean_text)\n",
        "    clean_text = re.sub(r'\\[\\[Categoría:[^\\]]+\\]\\]', '', clean_text, flags=re.IGNORECASE)\n",
        "    clean_text = re.sub(r'{{[^}]+}}', '', clean_text)\n",
        "    return clean_text\n",
        "\n",
        "def process_xml_in_batches(file_path, output_path):\n",
        "    context = ET.iterparse(file_path, events=(\"start\", \"end\"))\n",
        "    context = iter(context)\n",
        "    event, root = next(context)\n",
        "\n",
        "    with open(output_path, 'w', encoding='utf-8') as output:\n",
        "        page_count = 0\n",
        "        while True:\n",
        "            try:\n",
        "                event, elem = next(context)\n",
        "                if event == \"end\" and elem.tag.endswith(\"page\"):\n",
        "                    title_elem = elem.find('.//{http://www.mediawiki.org/xml/export-0.10/}title')\n",
        "                    text_elem = elem.find('.//{http://www.mediawiki.org/xml/export-0.10/}revision/{http://www.mediawiki.org/xml/export-0.10/}text')\n",
        "\n",
        "                    if title_elem is not None and text_elem is not None and text_elem.text:\n",
        "                        title = title_elem.text\n",
        "                        cleaned_text = clean_wikicode(text_elem.text)\n",
        "                        output.write(f\"Title: {title}\\n{cleaned_text}\\n\\n\")\n",
        "\n",
        "                    elem.clear()  # Clear processed element\n",
        "                    root.clear()  # Also clear references from the root to the processed elements\n",
        "\n",
        "                    page_count += 1\n",
        "            except StopIteration:\n",
        "                break  # Exit the loop if no more elements\n",
        "\n",
        "        print(f\"Processed {page_count} pages in total.\")\n",
        "\n",
        "# Specify your file paths here\n",
        "input_xml_path = '/content/drive/MyDrive/Colab_files/output_file.xml'\n",
        "output_txt_path = '/content/drive/MyDrive/Colab_files/output_file.txt'\n",
        "\n",
        "# Start the batch processing\n",
        "process_xml_in_batches(input_xml_path, output_txt_path)\n"
      ]
    },
    {
      "cell_type": "code",
      "source": [
        "def sample_text_file(file_path, num_lines=40):\n",
        "    \"\"\" Function to read and print the first 'num_lines' lines of a text file. \"\"\"\n",
        "    try:\n",
        "        with open(file_path, 'r', encoding='utf-8') as file:\n",
        "            for _ in range(num_lines):\n",
        "                line = file.readline()\n",
        "                if not line:\n",
        "                    break\n",
        "                print(line, end='')  # Use end='' to avoid double newlines\n",
        "    except FileNotFoundError:\n",
        "        print(\"File not found. Please check the file path.\")\n",
        "    except Exception as e:\n",
        "        print(f\"An error occurred: {e}\")\n",
        "\n",
        "# Specify the path to your text file\n",
        "file_path = '/content/drive/MyDrive/Colab_files/output_file.txt'\n",
        "\n",
        "# Call the function to sample the first 10 lines of the file\n",
        "sample_text_file(file_path)\n"
      ],
      "metadata": {
        "colab": {
          "base_uri": "https://localhost:8080/"
        },
        "id": "9Mk0hBWpVHSH",
        "outputId": "faf792fc-ae5f-4642-c509-2774ae37dd49"
      },
      "execution_count": 1,
      "outputs": [
        {
          "output_type": "stream",
          "name": "stdout",
          "text": [
            "Title: Astronomia\n",
            "Formação estrelar na Grande Nuvem de Magalhães, uma galáxia irregular.\n",
            "Mosaico da Nebulosa do Caranguejo, remanescente de uma supernova.\n",
            "Astronomia é uma ciência natural que estuda corpos celestes (como estrelas, planetas, cometas, nebulosas, aglomerados de estrelas, galáxias) e fenômenos que se originam fora da atmosfera da Terra (como a radiação cósmica de fundo em micro-ondas). Preocupada com a evolução, a física e a química de objetos celestes, bem como a formação e o desenvolvimento do universo.\n",
            "\n",
            "A astronomia é uma das mais antigas ciências. Culturas pré-históricas deixaram registrados vários artefatos astronômicos, como Stonehenge, os montes de Newgrange e os menires. As primeiras civilizações, como os babilônios, gregos, chineses, indianos, persas e maias realizaram observações metódicas do céu noturno. No entanto, a invenção do telescópio permitiu o desenvolvimento da astronomia moderna. Historicamente, a astronomia incluiu disciplinas tão diversas como astrometria, navegação astronômica, astronomia observacional e a elaboração de calendários. Durante o período medieval, seu estudo era obrigatório e estava incluído no Quadrivium que, junto com o Trivium, compunha a metodologia de ensino das sete Artes liberais.Janotti, Aldo. Origens da universidade: a singularidade do caso português. EdUSP, 1992, página 199. ISBN 9788531400858 (4 de fevereiro de 2016).\n",
            "\n",
            "Durante o século XX, o campo da astronomia profissional dividiu-se em dois ramos: a astronomia observacional e a astronomia teórica. A primeira está focada na aquisição de dados a partir da observação de objetos celestes, que são então analisados utilizando os princípios básicos da física. Já a segunda é orientada para o desenvolvimento de modelos analíticos que descrevem objetos e fenômenos astronômicos. Os dois campos se complementam, com a astronomia teórica procurando explicar os resultados observacionais, bem com as observações sendo usadas para confirmar (ou não) os resultados teóricos.\n",
            "\n",
            "Os astrônomos amadores têm contribuído para muitas e importantes descobertas astronômicas. A astronomia é uma das poucas ciências onde os amadores podem desempenhar um papel ativo, especialmente na descoberta e observação de fenômenos transitórios.Denis Russo Burgierman e Thereza Venturoli. Astronomia feita em casa. Superinteressante. Editora Abril: set 1999;Carolina Cantarino. Profissionais e amadores no universo da astronomia. ComCiência, 10 de agosto de 2007;\n",
            "\n",
            "A Astronomia não deve ser confundida com a astrologia, sistema de crença que afirma que os assuntos humanos, como a personalidade, estão correlacionados com as posições dos objetos celestes. Embora os dois campos compartilhem uma origem comum, atualmente eles estão totalmente distintos.Albrecht Unsöld, Bodo Baschek e WP Brewer. The New Cosmos: An Introduction to Astronomy and Astrophysics. Berlin, Nova Iorque: Springer, 2001.\n",
            "\n",
            " História \n",
            "\n",
            "220xPôr do sol no dia do equinócio no sítio pré-histórico de Pizzo Vento em Fondachelli Fantina, Sicília.\n",
            "Inicialmente, a astronomia envolveu somente a observação e a previsão dos movimentos dos objetos no céu que podiam ser vistos a olho nu. O Rigveda refere-se aos 27 asterismos ou nakshatras associados aos movimentos do Sol e também às doze divisões zodiacais do céu. Durante milhares de anos, as pessoas investigaram o espaço e a situação da Terra. No ano 4000 a.C., os egípcios desenvolveram um calendário baseado no movimento dos objetos celestes. A observação dos céus levou à previsão de eventos como os eclipses. Os antigos gregos fizeram importantes contribuições para a astronomia, entre elas a definição de magnitude aparente. A Bíblia contém um número de afirmações sobre a posição da Terra no universo e sobre a natureza das estrelas e dos planetas, a maioria das quais são poéticas e não devem ser interpretadas literalmente; ver Cosmologia bíblica. Nos anos 500, Aryabhata apresentou um sistema matemático que considerava que a Terra rodava em torno do seu eixo e que os planetas se deslocavam em relação ao Sol.\n",
            "\n",
            "O estudo da astronomia quase parou durante a Idade Média, à exceção do trabalho dos astrónomos árabes. No  final do século IX, o astrónomo árabe ou persa al-Farghani (Abu'l-Abbas Ahmad ibn Muhammad ibn Kathir al-Farghani) escreveu extensivamente sobre o movimento dos corpos celestes. No século XII, os seus trabalhos foram traduzidos para o latim, e diz-se que Dante aprendeu astronomia pelos livros de al-Farghani.\n",
            "\n",
            "No final do século X, um observatório enorme foi construído perto de Teerã, Irã, pelo astrônomo al-Khujandi, que observou uma série de trânsitos meridianos do Sol, que permitiu-lhe calcular a obliquidade da eclíptica, também conhecida como a inclinação do eixo da Terra relativamente ao Sol. Como sabe-se hoje, a inclinação da Terra é de aproximadamente 23°34', e al-Khujandi mediu-a como sendo 23°32'19\". Usando esta informação, compilou também uma lista das latitudes e das longitudes de cidades principais.\n",
            "\n",
            "Omar Khayyam (Ghiyath al-Din Abu'l-Fath Umar ibn Ibrahim al-Nisaburi al-Khayyami) foi um grande cientista, filósofo e poeta persa que viveu de 1048 a 1131. Compilou muitas tabelas astronômicas e executou uma reforma do calendário que era mais exato do que o Calendário Juliano e se aproximava do Calendário Gregoriano. Um feito surpreendente era seu cálculo do ano como tendo 365,24219858156 dias, valor esse considerando a exatidão até a sexta casa decimal se comparado com os números de hoje, indica que nesses mil anos pode ter havido algumas alterações na órbita terrestre.\n",
            "Atualmente, sabemos que o Universo é dominado por estruturas de gás, poeira, estrelas e galáxias, como visto neste esquema logarítmico, onde várias imagens do telescópio Hubble e outros estão incluídas.\n",
            "\n",
            "Durante o Renascimento, Copérnico propôs um modelo heliocêntrico do Sistema Solar. No século XIII, o imperador Hulagu, neto de Gengis Khan e um protetor das ciências, havia concedido ao conselheiro Nasir El Din Tusi autorização para edificar um observatório considerado sem equivalentes na época. Entre os trabalhos desenvolvidos no observatório de Maragheh e a obra \"De Revolutionibus Orbium Caelestium\" de Copérnico, há algumas semelhanças que levam os historiadores a admitir que este teria tomado conhecimento dos estudos de Tusi, através de cópias de trabalhos deste existentes no Vaticano.\n",
            "\n",
            "O modelo heliocêntrico do Sistema Solar foi defendido, desenvolvido e corrigido por Galileu Galilei e Johannes Kepler. Kepler foi o primeiro a desenvolver um sistema que descrevesse corretamente os detalhes do movimento dos planetas com o Sol no centro. No entanto, Kepler não compreendeu os princípios por detrás das leis que descobriu. Estes princípios foram descobertos mais tarde por Isaac Newton, que mostrou que o movimento dos planetas se podia explicar pela Lei da gravitação universal e pelas leis da dinâmica.\n",
            "\n",
            "Constatou-se que as estrelas são objetos muito distantes. Com o advento da Espectroscopia provou-se que são similares ao nosso próprio Sol, mas com uma grande variedade de temperaturas, massas e tamanhos. A existência de nossa galáxia, a Via Láctea, como um grupo separado das estrelas foi provada somente no século XX, bem como a existência de galáxias \"externas\", e logo depois, a expansão do universo dada a recessão da maioria das galáxias de nós. A Cosmologia fez avanços enormes durante o século XX, com o modelo do Big Bang fortemente apoiado pelas evidências fornecidas pela Astronomia e pela Física, tais como a radiação cósmica de micro-ondas de fundo, a Lei de Hubble e a abundância cosmológica dos elementos.\n",
            "\n",
            " Campos \n",
            "Nebulosa planetária de Formiga. A ejecção de gás da estrela no centro da imagem tem padrões de simetria diferentes dos padrões caóticos esperados para uma explosão ordinária.\n",
            "Por ter um objeto de estudo tão vasto, a astronomia é dividida em muitas áreas. Uma distinção principal é entre a astronomia teórica e a observacional. Observadores usam vários meios para obter dados sobre diversos fenômenos, que são usados pelos teóricos para criar e testar teorias e modelos, para explicar observações e para prever novos resultados. O observador e o teórico não são necessariamente pessoas diferentes e, em vez de dois campos perfeitamente delimitados, há um contínuo de cientistas que põem maior ou menor ênfase na observação ou na teoria.\n",
            "\n",
            "Os campos de estudo podem também ser categorizados quanto:\n",
            "\n",
            " ao assunto: em geral de acordo com a região do espaço (ex. Astronomia galáctica) ou aos problemas por resolver (tais como formação das estrelas ou cosmologia);\n",
            " à forma como se obtém a informação (essencialmente, que faixa do espectro eletromagnético é usada).\n",
            "\n"
          ]
        }
      ]
    }
  ],
  "metadata": {
    "colab": {
      "provenance": [],
      "mount_file_id": "1gSkdL5OeH0Ok7OvCx25rQlX04tVo4aBc",
      "authorship_tag": "ABX9TyPz8kIip7Y7M+YPoe6vd/2d",
      "include_colab_link": true
    },
    "kernelspec": {
      "display_name": "Python 3",
      "name": "python3"
    },
    "language_info": {
      "name": "python"
    }
  },
  "nbformat": 4,
  "nbformat_minor": 0
}